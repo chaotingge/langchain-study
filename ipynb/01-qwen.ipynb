{
 "cells": [
  {
   "cell_type": "code",
   "execution_count": 1,
   "metadata": {},
   "outputs": [
    {
     "name": "stdout",
     "output_type": "stream",
     "text": [
      "Name: langchain-community\n",
      "Version: 0.3.21\n",
      "Summary: Community contributed LangChain integrations.\n",
      "Home-page: \n",
      "Author: \n",
      "Author-email: \n",
      "License: MIT\n",
      "Location: /root/miniforge3/envs/langchain_byctc/lib/python3.13/site-packages\n",
      "Requires: aiohttp, dataclasses-json, httpx-sse, langchain, langchain-core, langsmith, numpy, pydantic-settings, PyYAML, requests, SQLAlchemy, tenacity\n",
      "Required-by: \n",
      "Note: you may need to restart the kernel to use updated packages.\n"
     ]
    }
   ],
   "source": [
    "%pip show langchain-community"
   ]
  },
  {
   "cell_type": "code",
   "execution_count": 2,
   "metadata": {},
   "outputs": [
    {
     "name": "stdout",
     "output_type": "stream",
     "text": [
      "Name: dashscope\n",
      "Version: 1.23.1\n",
      "Summary: dashscope client sdk library\n",
      "Home-page: https://dashscope.aliyun.com/\n",
      "Author: Alibaba Cloud\n",
      "Author-email: dashscope@alibabacloud.com\n",
      "License: Apache 2.0\n",
      "Location: /root/miniforge3/envs/langchain_byctc/lib/python3.13/site-packages\n",
      "Requires: aiohttp, requests, websocket-client\n",
      "Required-by: \n",
      "Note: you may need to restart the kernel to use updated packages.\n"
     ]
    }
   ],
   "source": [
    "%pip show dashscope"
   ]
  },
  {
   "cell_type": "code",
   "execution_count": 5,
   "metadata": {},
   "outputs": [
    {
     "name": "stdout",
     "output_type": "stream",
     "text": [
      "chat resp: 天空\n",
      "chat resp: 之所以呈现蓝色，主要是因为\n",
      "chat resp: 大气中的分子和微\n",
      "chat resp: 小颗粒对太阳光的\n",
      "chat resp: 散射作用。这个\n",
      "chat resp: 现象可以通过瑞利散射\n",
      "chat resp: （Rayleigh scattering\n",
      "chat resp: ）来解释。\n",
      "\n",
      "当太阳\n",
      "chat resp: 光进入地球的大气\n",
      "chat resp: 层时，它包含了多种\n",
      "chat resp: 颜色的光，这些\n",
      "chat resp: 不同颜色的光\n",
      "chat resp: 波长各不相同。\n",
      "chat resp: 蓝光的波\n",
      "chat resp: 长较短，在\n",
      "chat resp: 与大气中更\n",
      "chat resp: 小的气体分子（\n",
      "chat resp: 如氮气和氧气分子\n",
      "chat resp: ）相互作用时更容易\n",
      "chat resp: 被散射到\n",
      "chat resp: 各个方向。相比之下\n",
      "chat resp: ，红光等\n",
      "chat resp: 波长较长的颜色\n",
      "chat resp: 则较少受到这种\n",
      "chat resp: 散射影响。\n",
      "chat resp: 因此，当我们抬头望\n",
      "chat resp: 向没有直接阳光照射的\n",
      "chat resp: 天空时，我们的眼睛\n",
      "chat resp: 接收到更多的是被\n",
      "chat resp: 散射了的蓝光\n",
      "chat resp: ，这就使得天空呈现出\n",
      "chat resp: 蓝色。\n",
      "\n",
      "需要注意的是，在\n",
      "chat resp: 日出或日落时\n",
      "chat resp: 分，太阳位于\n",
      "chat resp: 地平线附近，\n",
      "chat resp: 光线需要穿过更多的大气层\n",
      "chat resp: 才能到达观察者眼中\n",
      "chat resp: 。此时，大部分\n",
      "chat resp: 蓝光和其他短\n",
      "chat resp: 波长的光\n",
      "chat resp: 已经被散射掉了\n",
      "chat resp: ，而剩下的主要是波\n",
      "chat resp: 长较长、不易\n",
      "chat resp: 被散射的红光\n",
      "chat resp: 和橙光，\n",
      "chat resp: 所以这时的天空看起来\n",
      "chat resp: 会偏红或者\n",
      "chat resp: 橙色。\n",
      "chat resp: \n"
     ]
    }
   ],
   "source": [
    "from langchain_community.chat_models.tongyi import ChatTongyi\n",
    "from langchain_core.messages import HumanMessage\n",
    "\n",
    "chatLLM = ChatTongyi(\n",
    "    model=\"qwen-max\",   # 此处以qwen-max为例，您可按需更换模型名称。模型列表：https://help.aliyun.com/zh/model-studio/getting-started/models\n",
    "    streaming=True,\n",
    "    # other params...\n",
    ")\n",
    "res = chatLLM.stream([HumanMessage(content=\"hi，天空为什么是蓝的\")], streaming=True)\n",
    "for r in res:\n",
    "    # 逐片段输出响应内容\n",
    "    print(\"chat resp:\", r.content)"
   ]
  },
  {
   "cell_type": "code",
   "execution_count": 10,
   "metadata": {},
   "outputs": [
    {
     "name": "stdout",
     "output_type": "stream",
     "text": [
      "content='秋风起落叶，飘零似客心。\\n山色笼轻雾，水声带晚吟。\\n稻香村舍远，果熟野园深。\\n此景何须酒，清欢已自斟。' additional_kwargs={} response_metadata={'model_name': 'qwen-max', 'finish_reason': 'stop', 'request_id': '3b01ce76-61e4-92d7-8b88-14fc08872abc', 'token_usage': {'input_tokens': 14, 'output_tokens': 47, 'total_tokens': 61, 'prompt_tokens_details': {'cached_tokens': 0}}} id='run-490ef9e5-59f2-4c96-b1a6-da532e102b38-0'\n",
      "--------------------------------\n",
      "秋风起落叶，飘零似客心。\n",
      "山色笼轻雾，水声带晚吟。\n",
      "稻香村舍远，果熟野园深。\n",
      "此景何须酒，清欢已自斟。\n"
     ]
    }
   ],
   "source": [
    "response = chatLLM.invoke(\n",
    "    [HumanMessage(content=\"写一首关于秋天的诗\")],\n",
    "    temperature=0.7,\n",
    "    max_tokens=200\n",
    ")\n",
    "print(response)  # 直接输出完整响应\n",
    "print(\"--------------------------------\")\n",
    "print(response.content)"
   ]
  },
  {
   "cell_type": "code",
   "execution_count": 12,
   "metadata": {},
   "outputs": [
    {
     "name": "stdout",
     "output_type": "stream",
     "text": [
      "content='给花店起名是一件既有趣又富有创意的事情。一个好的名字不仅能够吸引顾客的注意，还能很好地传达出店铺的特色和理念。这里为您提供几个建议，希望能够激发您的灵感：\\n\\n1. **花语轩**：结合了“花”的主题与“轩”' additional_kwargs={} response_metadata={'model_name': 'qwen-max', 'finish_reason': 'length', 'request_id': '3084f983-e273-9a44-9fba-dc9dff345285', 'token_usage': {'input_tokens': 27, 'output_tokens': 60, 'total_tokens': 87, 'prompt_tokens_details': {'cached_tokens': 0}}} id='run-b8aa0cbf-ddf5-425f-9667-15108b74377f-0'\n",
      "--------------------------------\n",
      "给花店起名是一件既有趣又富有创意的事情。一个好的名字不仅能够吸引顾客的注意，还能很好地传达出店铺的特色和理念。这里为您提供几个建议，希望能够激发您的灵感：\n",
      "\n",
      "1. **花语轩**：结合了“花”的主题与“轩”\n"
     ]
    }
   ],
   "source": [
    "from langchain_core.messages import SystemMessage\n",
    "\n",
    "# 初始化通义千问大模型\n",
    "chatLLM = ChatTongyi(\n",
    "    model=\"qwen-max\",  # 指定模型版本\n",
    "    temperature=0.8    # 保持与原始代码相同的随机度\n",
    ")\n",
    "\n",
    "# 构建对话消息\n",
    "messages = [\n",
    "    SystemMessage(content=\"You are a creative AI.\"),  # 系统角色设定\n",
    "    HumanMessage(content=\"请给我的花店起个名\")        # 用户输入\n",
    "]\n",
    "\n",
    "# 发起非流式请求\n",
    "response = chatLLM.invoke(\n",
    "    messages,\n",
    "    max_tokens=60  # 保持与原始代码相同的token限制\n",
    ")\n",
    "\n",
    "# 输出结果\n",
    "print(response)  # 直接输出完整响应\n",
    "print(\"--------------------------------\")\n",
    "print(response.content)"
   ]
  },
  {
   "cell_type": "code",
   "execution_count": 14,
   "metadata": {},
   "outputs": [
    {
     "name": "stdout",
     "output_type": "stream",
     "text": [
      "生成结果: 给面馆起名是一件既有趣又需要创意的事情。一个好的名字不仅能够吸引顾客，还能反映出面馆的特色和文化。这里有几个建议，希望能激发你的灵感：\n",
      "\n",
      "1. **味缘面坊**：“味缘”意味着通过美食结缘，给人以温馨、亲切之感。\n",
      "2. **巷口老味道**：如果您的面馆位于某个历史悠久的小巷或是想要营造一种复古风情，这个名字非常适合，让人想起儿时的记忆。\n",
      "3. **面舞者**：将制作面条的过程比作舞蹈，既生动又富有艺术气息，适合追求创新与独特性的店铺。\n",
      "4. **汤香阁**：强调了汤底的重要性，对于特别注重汤头品质的面馆来说是个不错的选择。\n",
      "5. **面里乾坤**：取自成语“别有洞天”，暗示着一碗看似普通的面条背后藏着大世界，适合那些有着深厚文化底蕴或独特故事背景的面馆使用。\n",
      "\n",
      "选择名称时，请考虑您所处地区的文化特点以及目标顾客群体的兴趣偏好等因素。希望这些建议能帮助到您！如果有更具体的方向或者风格要求，也欢迎告诉我，以便提供更加贴合需求的名字建议。\n"
     ]
    }
   ],
   "source": [
    "messages = [\n",
    "    SystemMessage(\n",
    "        content=\"You are a creative AI.\"\n",
    "    ),\n",
    "    HumanMessage(\n",
    "        content=\"请给我的面馆起个名\"\n",
    "    ),\n",
    "]\n",
    "# chatLLM(messages)\n",
    "\n",
    "# 修改后（推荐方式）:\n",
    "response = chatLLM.invoke(messages)\n",
    "print(\"生成结果:\", response.content)"
   ]
  },
  {
   "cell_type": "code",
   "execution_count": 29,
   "metadata": {},
   "outputs": [
    {
     "name": "stdout",
     "output_type": "stream",
     "text": [
      "\u001b[33mWARNING: Skipping langchain-ollam as it is not installed.\u001b[0m\u001b[33m\n",
      "\u001b[0m\u001b[33mWARNING: Running pip as the 'root' user can result in broken permissions and conflicting behaviour with the system package manager, possibly rendering your system unusable. It is recommended to use a virtual environment instead: https://pip.pypa.io/warnings/venv. Use the --root-user-action option if you know what you are doing and want to suppress this warning.\u001b[0m\u001b[33m\n",
      "\u001b[0mNote: you may need to restart the kernel to use updated packages.\n"
     ]
    }
   ],
   "source": [
    "%pip  uninstall langchain-ollam -y"
   ]
  },
  {
   "cell_type": "code",
   "execution_count": 24,
   "metadata": {},
   "outputs": [],
   "source": [
    "# 在调用langchain_ollama前添加兼容代码\n",
    "from langchain_core.messages.base import BaseMessage\n",
    "\n",
    "def is_data_content_block(msg: BaseMessage):\n",
    "    return hasattr(msg, 'data') and isinstance(msg.data, dict)"
   ]
  },
  {
   "cell_type": "code",
   "execution_count": 30,
   "metadata": {},
   "outputs": [
    {
     "name": "stdout",
     "output_type": "stream",
     "text": [
      "<think>\n",
      "好的，用户希望我详细解释如何种植玫瑰。我需要按照之前的回答结构来组织内容，确保信息准确且易于理解。\n",
      "\n",
      "首先，选择适合的品种很重要，因为不同的玫瑰适应不同气候和用途。我会提到一些常见的品种，并建议根据当地的气候条件选择合适的类型。\n",
      "\n",
      "接下来是土壤 preparation，这是成功种植的关键。我需要解释如何准备土壤，包括松土、有机质添加以及pH值的要求。可能还需要提醒用户避免重粘土，因为它会影响排水。\n",
      "\n",
      "然后是种植时间的选择，最好是在春季或秋季，避开极端天气。我会建议在购买苗木后尽快种植，并强调选择健康无病的植株。\n",
      "\n",
      "种植的具体步骤包括挖坑、放置苗木、覆盖土壤和浇水。我需要详细说明每个步骤，确保用户能够正确执行。\n",
      "\n",
      "日常护理部分非常重要，涉及浇水、施肥、修剪和冬季保护。我需要解释如何判断何时浇水，推荐肥料类型和施用时间，以及修剪的最佳时机和方法。此外，还要提醒用户注意防虫和防病害。\n",
      "\n",
      "最后，我会总结一下玫瑰种植的关键点，并鼓励读者耐心等待花开，同时提供进一步帮助的可能性。\n",
      "\n",
      "在写作过程中，我要确保语言通俗易懂，避免使用过于专业的术语，让即使是新手也能轻松理解。同时，结构要清晰，分段明确，便于阅读。\n",
      "</think>\n",
      "\n",
      "种植玫瑰是一项既有趣又能美化环境的活动。以下是详细的步骤指南：\n",
      "\n",
      "### 1. 选择适合的玫瑰品种\n",
      "根据你的气候和喜好选择玫瑰品种。常见的有：\n",
      "- **切花玫瑰**：如和平、戴安娜，适合鲜切花。\n",
      "- **灌木玫瑰**：生长成丛，开花多，适合庭院种植。\n",
      "- **藤本玫瑰**：如玛丽皇后，适合攀爬或做拱门。\n",
      "\n",
      "### 2. 准备土壤\n",
      "- **疏松排水**：确保土壤不积水，可以添加腐叶土、河沙和堆肥改善结构。\n",
      "- **有机质**：加入有机物质如 compost 或腐熟的牛粪，提高养分含量。\n",
      "- **pH值**：理想的 pH 值在 6.0 到 7.5 之间。可以用测试 kit 检测。\n",
      "\n",
      "### 3. 选择种植时间\n",
      "- 春季（4月）或秋季（9月至10月）是最佳时期，此时温度适中，有利于根系发育。\n",
      "- 避免在极端寒冷或炎热的季节种植。\n",
      "\n",
      "### 4. 种植步骤\n",
      "- **挖坑**：坑宽和深约30厘米，确保根部有足够空间展开。如果土壤不好，可换土。\n",
      "- **放置苗木**：将玫瑰苗放入坑中，调整位置使茎直立。根部自然舒展。\n",
      "- **覆盖土壤**：用疏松的园艺土或改良后的土壤覆盖，轻轻压实以去除空气。\n",
      "- **浇水**：浇透水，确保根部湿润。\n",
      "\n",
      "### 5. 日常护理\n",
      "- **浇水**：保持土壤湿润但不积水。早晨浇水最佳，避免叶片潮湿引发病害。\n",
      "- **施肥**：生长期每隔两周施稀释液体肥料或有机肥。开花前增加磷钾肥比例。\n",
      "- **修剪**：\n",
      "  - 春季萌芽前重剪，去除枯枝、交叉枝和病弱部分。\n",
      "  - 花后及时修剪，促进新枝生长和更多花朵。\n",
      "  - 冬季修剪，保持植株形状，移除死枝。\n",
      "\n",
      "### 6. 防虫治病\n",
      "- **蚜虫**：可用肥皂水或 insecticidal soap 喷洒。\n",
      "- **白粉病**：及时处理受感染的枝叶，使用 fungicide 处理。\n",
      "- **锈病**：保持植株通风，剪除染病部分。\n",
      "\n",
      "### 7. 冬季保护\n",
      "在寒冷地区，需覆盖稻草或松针，保护根部，避免冻害。移盆种植的玫瑰应移到室内或温室，确保温度不低于5°C。\n",
      "\n",
      "通过遵循这些步骤，你可以成功种植并享受玫瑰绽放的美丽花朵。如果你有任何问题，随时欢迎咨询！\n"
     ]
    }
   ],
   "source": [
    "from langchain_community.chat_models import ChatOllama\n",
    "#from langchain_ollama import ChatOllama\n",
    "from langchain_core.prompts import ChatPromptTemplate\n",
    "\n",
    "# 初始化本地Ollama（默认端口11434）\n",
    "llm = ChatOllama(\n",
    "    base_url=\"http://localhost:6399\",\n",
    "    model=\"deepseek-r1:14b\",  # 需与本地加载的模型名称一致\n",
    "    temperature=0.7,\n",
    "    streaming=False  # 非流式模式\n",
    ")\n",
    "\n",
    "# 构建提示模板（参考function_call.ipynb）\n",
    "prompt = ChatPromptTemplate.from_messages([\n",
    "    (\"system\", \"你是一个花卉种植专家\"),\n",
    "    (\"human\", \"请用{language}解释如何种植{flower}\")\n",
    "])\n",
    "\n",
    "# 创建调用链\n",
    "chain = prompt | llm\n",
    "\n",
    "# 执行调用（参考sequential_chain.ipynb）\n",
    "response = chain.invoke({\n",
    "    \"flower\": \"玫瑰\",\n",
    "    \"language\": \"中文\"\n",
    "})\n",
    "\n",
    "print(response.content)"
   ]
  },
  {
   "cell_type": "code",
   "execution_count": 15,
   "metadata": {},
   "outputs": [
    {
     "name": "stdout",
     "output_type": "stream",
     "text": [
      "content='' additional_kwargs={'tool_calls': [{'function': {'name': 'multiply', 'arguments': '{\"first_int\": 5, \"second_int\": 42}'}, 'index': 0, 'id': 'call_ed031c599c7741018e81f2', 'type': 'function'}]} response_metadata={'model_name': 'qwen-turbo', 'finish_reason': 'tool_calls', 'request_id': 'a2c459f5-02e2-9c2e-a792-a605d321f1f1', 'token_usage': {'input_tokens': 178, 'output_tokens': 25, 'total_tokens': 203}} id='run-ddb2d160-618d-47d4-b6d4-9a9bdcec9623-0' tool_calls=[{'name': 'multiply', 'args': {'first_int': 5, 'second_int': 42}, 'id': 'call_ed031c599c7741018e81f2', 'type': 'tool_call'}]\n"
     ]
    }
   ],
   "source": [
    "from langchain_core.tools import tool\n",
    "\n",
    "\n",
    "@tool\n",
    "def multiply(first_int: int, second_int: int) -> int:\n",
    "    \"\"\"Multiply two integers together.\"\"\"\n",
    "    return first_int * second_int\n",
    "\n",
    "\n",
    "llm = ChatTongyi(model=\"qwen-turbo\")\n",
    "\n",
    "llm_with_tools = llm.bind_tools([multiply])\n",
    "\n",
    "msg = llm_with_tools.invoke(\"What's 5 times forty two\")\n",
    "\n",
    "print(msg)"
   ]
  },
  {
   "cell_type": "code",
   "execution_count": 19,
   "metadata": {},
   "outputs": [
    {
     "data": {
      "text/plain": [
       "AIMessage(content='我是通义千问，阿里巴巴集团旗下的通义实验室自主研发的超大规模语言模型。我能够回答问题、创作文字，如写故事、公文、技术文档，还能表达观点，玩游戏等。如果你有任何问题或需要帮助，欢迎随时告诉我！', additional_kwargs={}, response_metadata={'model_name': 'qwen-turbo', 'finish_reason': 'stop', 'request_id': '04979ea3-4117-90e5-841a-34412e89f954', 'token_usage': {'input_tokens': 225, 'output_tokens': 55, 'total_tokens': 280}}, id='run-3efb6069-00d0-4724-81fd-6db4050ffa6a-0')"
      ]
     },
     "execution_count": 19,
     "metadata": {},
     "output_type": "execute_result"
    }
   ],
   "source": [
    "tools = [\n",
    "    {\n",
    "        \"type\": \"function\",\n",
    "        \"function\": {\n",
    "            \"name\": \"get_current_time\",\n",
    "            \"description\": \"当你想知道现在的时间时非常有用。\",\n",
    "            \"parameters\": {},\n",
    "        },\n",
    "    },\n",
    "    {\n",
    "        \"type\": \"function\",\n",
    "        \"function\": {\n",
    "            \"name\": \"get_current_weather\",\n",
    "            \"description\": \"当你想查询指定城市的天气时非常有用。\",\n",
    "            \"parameters\": {\n",
    "                \"type\": \"object\",\n",
    "                \"properties\": {\n",
    "                    \"location\": {\n",
    "                        \"type\": \"string\",\n",
    "                        \"description\": \"城市或县区，比如北京市、杭州市、余杭区等。\",\n",
    "                    }\n",
    "                },\n",
    "            },\n",
    "            \"required\": [\"location\"],\n",
    "        },\n",
    "    },\n",
    "]\n",
    "\n",
    "messages = [\n",
    "    SystemMessage(content=\"You are a helpful assistant.\"),\n",
    "    HumanMessage(content=\"你是谁？是什么模型\"),\n",
    "]\n",
    "chatLLM = ChatTongyi()\n",
    "llm_kwargs = {\"tools\": tools, \"result_format\": \"message\"}\n",
    "ai_message = chatLLM.bind(**llm_kwargs).invoke(messages)\n",
    "ai_message"
   ]
  },
  {
   "cell_type": "code",
   "execution_count": 20,
   "metadata": {},
   "outputs": [
    {
     "data": {
      "text/plain": [
       "AIMessage(content='焕发出勃勃生机，万物在温暖的阳光下苏醒。嫩绿的新叶点缀着枝头，五彩斑斓的花朵竞相开放，仿佛为大地铺上了一层绚丽的锦缎。微风轻拂，带来阵阵花香与泥土的芬芳，让人心旷神怡。鸟儿欢快地歌唱，溪流潺潺流淌，一切充满了生命的律动。我心中满是喜悦，仿佛整个世界都被这春意浸润得更加美好。', additional_kwargs={}, response_metadata={'model_name': 'qwen-turbo', 'finish_reason': 'stop', 'request_id': 'eb37cb1f-2e47-9463-9fd1-67b824be20e3', 'token_usage': {'input_tokens': 31, 'output_tokens': 102, 'total_tokens': 133}}, id='run-e42edb71-9878-43c2-a912-3dfcf94abafb-0')"
      ]
     },
     "execution_count": 20,
     "metadata": {},
     "output_type": "execute_result"
    }
   ],
   "source": [
    "from langchain_core.messages import AIMessage\n",
    "messages = [\n",
    "    HumanMessage(\n",
    "        content=\"\"\"请继续“春天来了，大地”这句话，表达春天的美丽和作者的喜悦。\"\"\"\n",
    "    ),\n",
    "    AIMessage(\n",
    "        content=\"春天来了，大地\", additional_kwargs={\"partial\": True}\n",
    "    ),\n",
    "]\n",
    "\n",
    "ai_message = chatLLM.invoke(messages)\n",
    "ai_message"
   ]
  }
 ],
 "metadata": {
  "kernelspec": {
   "display_name": "langchain_byctc",
   "language": "python",
   "name": "langchain_byctc"
  },
  "language_info": {
   "codemirror_mode": {
    "name": "ipython",
    "version": 3
   },
   "file_extension": ".py",
   "mimetype": "text/x-python",
   "name": "python",
   "nbconvert_exporter": "python",
   "pygments_lexer": "ipython3",
   "version": "3.13.3"
  },
  "orig_nbformat": 4
 },
 "nbformat": 4,
 "nbformat_minor": 2
}
